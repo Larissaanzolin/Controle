{
  "nbformat": 4,
  "nbformat_minor": 0,
  "metadata": {
    "colab": {
      "provenance": [],
      "authorship_tag": "ABX9TyOuCuS6dl1dh2YqdL8P54Il",
      "include_colab_link": true
    },
    "kernelspec": {
      "name": "python3",
      "display_name": "Python 3"
    }
  },
  "cells": [
    {
      "cell_type": "markdown",
      "metadata": {
        "id": "view-in-github",
        "colab_type": "text"
      },
      "source": [
        "<a href=\"https://colab.research.google.com/github/Larissaanzolin/Controle/blob/main/controle.ipynb\" target=\"_parent\"><img src=\"https://colab.research.google.com/assets/colab-badge.svg\" alt=\"Open In Colab\"/></a>"
      ]
    },
    {
      "cell_type": "code",
      "metadata": {
        "colab": {
          "base_uri": "https://localhost:8080/"
        },
        "id": "6TZRj9SIqUSF",
        "outputId": "47fc8106-8f0f-4e69-a0ac-31d7e2f8c2c7"
      },
      "source": [
        "!pip install control"
      ],
      "execution_count": null,
      "outputs": [
        {
          "output_type": "stream",
          "name": "stdout",
          "text": [
            "Collecting control\n",
            "  Downloading control-0.9.0.tar.gz (339 kB)\n",
            "\u001b[K     |████████████████████████████████| 339 kB 2.0 MB/s \n",
            "\u001b[?25hRequirement already satisfied: numpy in /usr/local/lib/python3.7/dist-packages (from control) (1.19.5)\n",
            "Requirement already satisfied: scipy in /usr/local/lib/python3.7/dist-packages (from control) (1.4.1)\n",
            "Requirement already satisfied: matplotlib in /usr/local/lib/python3.7/dist-packages (from control) (3.2.2)\n",
            "Requirement already satisfied: cycler>=0.10 in /usr/local/lib/python3.7/dist-packages (from matplotlib->control) (0.11.0)\n",
            "Requirement already satisfied: kiwisolver>=1.0.1 in /usr/local/lib/python3.7/dist-packages (from matplotlib->control) (1.3.2)\n",
            "Requirement already satisfied: python-dateutil>=2.1 in /usr/local/lib/python3.7/dist-packages (from matplotlib->control) (2.8.2)\n",
            "Requirement already satisfied: pyparsing!=2.0.4,!=2.1.2,!=2.1.6,>=2.0.1 in /usr/local/lib/python3.7/dist-packages (from matplotlib->control) (3.0.6)\n",
            "Requirement already satisfied: six>=1.5 in /usr/local/lib/python3.7/dist-packages (from python-dateutil>=2.1->matplotlib->control) (1.15.0)\n",
            "Building wheels for collected packages: control\n",
            "  Building wheel for control (setup.py) ... \u001b[?25l\u001b[?25hdone\n",
            "  Created wheel for control: filename=control-0.9.0-py2.py3-none-any.whl size=344928 sha256=bbbb158fd1e7cd60662616aa01a0b77baffba3d534b201fcbb19d579ca04539b\n",
            "  Stored in directory: /root/.cache/pip/wheels/5b/64/54/70faad181d7baff1184541ca00c9a2efa633acd0a811831d30\n",
            "Successfully built control\n",
            "Installing collected packages: control\n",
            "Successfully installed control-0.9.0\n"
          ]
        }
      ]
    },
    {
      "cell_type": "markdown",
      "metadata": {
        "id": "n5KUct6PrZ0q"
      },
      "source": [
        "Importação da biblioteca"
      ]
    },
    {
      "cell_type": "code",
      "metadata": {
        "id": "0rNsiCs6rh2a"
      },
      "source": [
        "import control.matlab as ctr"
      ],
      "execution_count": null,
      "outputs": []
    },
    {
      "cell_type": "markdown",
      "metadata": {
        "id": "7_2a3wgNrvAq"
      },
      "source": [
        "## Funções de Tranferência"
      ]
    },
    {
      "cell_type": "code",
      "metadata": {
        "colab": {
          "base_uri": "https://localhost:8080/"
        },
        "id": "XFroW0jZr9Kk",
        "outputId": "ba92e5e0-05cb-46c1-d879-c3a21ac60f49"
      },
      "source": [
        "num1 = [0.01758,0.01540008]\n",
        "den1 = [1,-1.06703,0.6703]\n",
        "G1 = ctr.tf(num1,den1)\n",
        "print(G1)"
      ],
      "execution_count": null,
      "outputs": [
        {
          "output_type": "stream",
          "name": "stdout",
          "text": [
            "\n",
            "  0.01758 s + 0.0154\n",
            "----------------------\n",
            "s^2 - 1.067 s + 0.6703\n",
            "\n"
          ]
        }
      ]
    },
    {
      "cell_type": "code",
      "metadata": {
        "colab": {
          "base_uri": "https://localhost:8080/",
          "height": 39
        },
        "id": "Sqw45HA-seYc",
        "outputId": "49fb3bda-74c2-441b-b1f6-23b150f1d728"
      },
      "source": [
        "ctr.tf(num1,den1)"
      ],
      "execution_count": null,
      "outputs": [
        {
          "output_type": "execute_result",
          "data": {
            "text/latex": "$$\\frac{0.01758 s + 0.0154}{s^2 - 1.067 s + 0.6703}$$",
            "text/plain": [
              "TransferFunction(array([0.01758   , 0.01540008]), array([ 1.     , -1.06703,  0.6703 ]))"
            ]
          },
          "metadata": {},
          "execution_count": 4
        }
      ]
    },
    {
      "cell_type": "code",
      "metadata": {
        "colab": {
          "base_uri": "https://localhost:8080/"
        },
        "id": "xlmUJTAHskSl",
        "outputId": "1faabc5d-41b4-4aa1-c276-e82c4d3cc44c"
      },
      "source": [
        "polos = ctr.pole(G1)\n",
        "zeros = ctr.zero(G1)\n",
        "print('Polos =>', polos)\n",
        "print('Zeros =>', zeros)"
      ],
      "execution_count": null,
      "outputs": [
        {
          "output_type": "stream",
          "name": "stdout",
          "text": [
            "Polos => [0.533515+0.6210167j 0.533515-0.6210167j]\n",
            "Zeros => [-0.876]\n"
          ]
        }
      ]
    },
    {
      "cell_type": "markdown",
      "metadata": {
        "id": "CQVVrIITtkdC"
      },
      "source": [
        "Obs.: Para avaliae o valor da FT para determinado ponto $s_1$\n"
      ]
    },
    {
      "cell_type": "code",
      "metadata": {
        "colab": {
          "base_uri": "https://localhost:8080/"
        },
        "id": "fejNtCrOtnh3",
        "outputId": "5c7e9d67-66f6-4334-be75-628047e7feb2"
      },
      "source": [
        "ctr.evalfr(G1, 1+1j)"
      ],
      "execution_count": null,
      "outputs": [
        {
          "output_type": "execute_result",
          "data": {
            "text/plain": [
              "(0.003227608496111757-0.036722047995822384j)"
            ]
          },
          "metadata": {},
          "execution_count": 6
        }
      ]
    },
    {
      "cell_type": "markdown",
      "metadata": {
        "id": "MbFL1PZWt7d3"
      },
      "source": [
        "# Trabalhando com diagramas de blocos"
      ]
    },
    {
      "cell_type": "code",
      "metadata": {
        "colab": {
          "base_uri": "https://localhost:8080/"
        },
        "id": "ihuXSAlLuCs1",
        "outputId": "ca2d724c-7bac-4382-c7fd-743622687794"
      },
      "source": [
        "num2 = [12.67,-8.492701]\n",
        "den2 = [1,-0.2543]\n",
        "G2 = ctr.tf(num2,den2)\n",
        "print(G2)"
      ],
      "execution_count": null,
      "outputs": [
        {
          "output_type": "stream",
          "name": "stdout",
          "text": [
            "\n",
            "12.67 s - 8.493\n",
            "---------------\n",
            "  s - 0.2543\n",
            "\n"
          ]
        }
      ]
    },
    {
      "cell_type": "code",
      "metadata": {
        "id": "05pQI1S9uSAh"
      },
      "source": [],
      "execution_count": null,
      "outputs": []
    },
    {
      "cell_type": "markdown",
      "metadata": {
        "id": "MXKN5QqmuVC4"
      },
      "source": [
        "Blocos em Cascata(série)"
      ]
    },
    {
      "cell_type": "code",
      "metadata": {
        "colab": {
          "base_uri": "https://localhost:8080/"
        },
        "id": "Lu7xHz1oubHg",
        "outputId": "ce426c4e-b333-4390-d918-1abe0267916c"
      },
      "source": [
        "Gserie = G1 * G2\n",
        "print(Gserie)"
      ],
      "execution_count": null,
      "outputs": [
        {
          "output_type": "stream",
          "name": "stdout",
          "text": [
            "\n",
            "  0.2227 s^2 + 0.04582 s - 0.1308\n",
            "-----------------------------------\n",
            "s^3 - 1.321 s^2 + 0.9416 s - 0.1705\n",
            "\n"
          ]
        }
      ]
    },
    {
      "cell_type": "code",
      "metadata": {
        "colab": {
          "base_uri": "https://localhost:8080/"
        },
        "id": "4FYbsmS2ulKc",
        "outputId": "2a7a1b47-cab2-4c22-e69d-77fc4d12801f"
      },
      "source": [
        "print('Polos Gserie',ctr.pole(Gserie))\n",
        "print('Zeros Gserie',ctr.zero(Gserie))"
      ],
      "execution_count": null,
      "outputs": [
        {
          "output_type": "stream",
          "name": "stdout",
          "text": [
            "Polos Gserie [0.533515+0.6210167j 0.533515-0.6210167j 0.2543  +0.j       ]\n",
            "Zeros Gserie [-0.876   0.6703]\n"
          ]
        }
      ]
    },
    {
      "cell_type": "markdown",
      "metadata": {
        "id": "YLdMf8wXvK3i"
      },
      "source": [
        "Obs.:"
      ]
    },
    {
      "cell_type": "code",
      "metadata": {
        "colab": {
          "base_uri": "https://localhost:8080/"
        },
        "id": "NpFepvxSvOWI",
        "outputId": "6414a460-b1d3-4c36-8bd5-b006972f9521"
      },
      "source": [
        "Gserie_1 = ctr.series(G1,G2)\n",
        "print(Gserie_1)"
      ],
      "execution_count": null,
      "outputs": [
        {
          "output_type": "stream",
          "name": "stdout",
          "text": [
            "\n",
            "  0.2227 s^2 + 0.04582 s - 0.1308\n",
            "-----------------------------------\n",
            "s^3 - 1.321 s^2 + 0.9416 s - 0.1705\n",
            "\n"
          ]
        }
      ]
    },
    {
      "cell_type": "code",
      "metadata": {
        "id": "M3Yp_HE4vYbV"
      },
      "source": [],
      "execution_count": null,
      "outputs": []
    },
    {
      "cell_type": "markdown",
      "metadata": {
        "id": "7fnYPVwLvaGc"
      },
      "source": [
        "Blocos em Paralelo"
      ]
    },
    {
      "cell_type": "code",
      "metadata": {
        "colab": {
          "base_uri": "https://localhost:8080/"
        },
        "id": "VkOR1ue5vc4T",
        "outputId": "f42e49f7-8ef2-480d-bce1-d4d09be692ca"
      },
      "source": [
        "Gparalelo = G1 + G2\n",
        "print (Gparalelo)"
      ],
      "execution_count": null,
      "outputs": [
        {
          "output_type": "stream",
          "text": [
            "\n",
            "s^2 + 4 s + 5\n",
            "-------------\n",
            "s^2 + 4 s + 3\n",
            "\n"
          ],
          "name": "stdout"
        }
      ]
    },
    {
      "cell_type": "code",
      "metadata": {
        "colab": {
          "base_uri": "https://localhost:8080/"
        },
        "id": "joe8xrmTvlLd",
        "outputId": "77f33347-9285-4c06-fc87-35f76966816d"
      },
      "source": [
        "Gparalelo1 = ctr.parallel(G1,G2)\n",
        "print (Gparalelo)"
      ],
      "execution_count": null,
      "outputs": [
        {
          "output_type": "stream",
          "text": [
            "\n",
            "s^2 + 4 s + 5\n",
            "-------------\n",
            "s^2 + 4 s + 3\n",
            "\n"
          ],
          "name": "stdout"
        }
      ]
    },
    {
      "cell_type": "markdown",
      "metadata": {
        "id": "kUzrVEGkv9bQ"
      },
      "source": [
        "Realimentação\n"
      ]
    },
    {
      "cell_type": "code",
      "metadata": {
        "colab": {
          "base_uri": "https://localhost:8080/"
        },
        "id": "wt9pJGt5vvu1",
        "outputId": "54f553ad-b492-43a6-ebb2-26a7296dc4ba"
      },
      "source": [
        "T = ctr.feedback(G1, G2, sign=-1)\n",
        "print(T)"
      ],
      "execution_count": null,
      "outputs": [
        {
          "output_type": "stream",
          "name": "stdout",
          "text": [
            "\n",
            "0.01758 s^2 + 0.01093 s - 0.003916\n",
            "-----------------------------------\n",
            "s^3 - 1.099 s^2 + 0.9875 s - 0.3012\n",
            "\n"
          ]
        }
      ]
    },
    {
      "cell_type": "markdown",
      "metadata": {
        "id": "J13VigtswRA6"
      },
      "source": [
        "Estabilidade\n"
      ]
    },
    {
      "cell_type": "code",
      "metadata": {
        "colab": {
          "base_uri": "https://localhost:8080/"
        },
        "id": "LQiPZSIDwNtk",
        "outputId": "961db9f8-d304-4519-b26e-6518de085420"
      },
      "source": [
        "print('Polos de malha fechada:', ctr.pole(T))\n"
      ],
      "execution_count": null,
      "outputs": [
        {
          "output_type": "stream",
          "name": "stdout",
          "text": [
            "Polos de malha fechada: [0.33407895+0.76697899j 0.33407895-0.76697899j 0.4304335 +0.j        ]\n"
          ]
        }
      ]
    },
    {
      "cell_type": "markdown",
      "metadata": {
        "id": "vYzz9G-dweCo"
      },
      "source": [
        "# Análise Transitória\n"
      ]
    },
    {
      "cell_type": "markdown",
      "metadata": {
        "id": "u7G1ReQawk0h"
      },
      "source": [
        "Resposta ao Degrau Unitário"
      ]
    },
    {
      "cell_type": "code",
      "metadata": {
        "colab": {
          "base_uri": "https://localhost:8080/",
          "height": 295
        },
        "id": "lGCErgDwwcJT",
        "outputId": "410354bb-f580-42ba-c0c3-9cb79410ddff"
      },
      "source": [
        "import matplotlib.pyplot as plt\n",
        "y, t =ctr.step(T)\n",
        "\n",
        "plt.plot(t,y)\n",
        "plt.xlabel('Tempo, segundos')\n",
        "plt.ylabel('Saída $y(t)$')\n",
        "plt.title('Resposta ao Degrau unitário')\n",
        "plt.grid()"
      ],
      "execution_count": null,
      "outputs": [
        {
          "output_type": "display_data",
          "data": {
            "image/png": "[encoded data removed]",
            "text/plain": [
              "<Figure size 432x288 with 1 Axes>"
            ]
          },
          "metadata": {
            "tags": [],
            "needs_background": "light"
          }
        }
      ]
    },
    {
      "cell_type": "markdown",
      "metadata": {
        "id": "hV_hWI_rxWPa"
      },
      "source": [
        "Resposta ao Impulso Unitário\n"
      ]
    },
    {
      "cell_type": "code",
      "metadata": {
        "colab": {
          "base_uri": "https://localhost:8080/",
          "height": 295
        },
        "id": "cCiJuKgmxUot",
        "outputId": "814a9460-56eb-4ed4-9548-8a5b88ce729b"
      },
      "source": [
        "\n",
        "y, t =ctr.impulse(T)\n",
        "\n",
        "plt.plot(t,y)\n",
        "plt.xlabel('Tempo, segundos')\n",
        "plt.ylabel('Saída $y(t)$')\n",
        "plt.title('Resposta ao Impulso unitário')\n",
        "plt.grid()"
      ],
      "execution_count": null,
      "outputs": [
        {
          "output_type": "display_data",
          "data": {
            "image/png": "[encoded data removed]",
            "text/plain": [
              "<Figure size 432x288 with 1 Axes>"
            ]
          },
          "metadata": {
            "tags": [],
            "needs_background": "light"
          }
        }
      ]
    },
    {
      "cell_type": "markdown",
      "metadata": {
        "id": "bihICSPhxpu4"
      },
      "source": [
        "Resposta a Rampa Unitária"
      ]
    },
    {
      "cell_type": "code",
      "metadata": {
        "colab": {
          "base_uri": "https://localhost:8080/",
          "height": 380
        },
        "id": "PeERMBEOxhVr",
        "outputId": "25166e2e-e329-4d1c-ef57-bc58e71961fc"
      },
      "source": [
        "integrador = ctr.tf([1],[1,0])\n",
        "print('Integrador',integrador)\n",
        "\n",
        "y, t =ctr.step(integrador*T)\n",
        "\n",
        "plt.plot(t,y)\n",
        "plt.xlabel('Tempo, segundos')\n",
        "plt.ylabel('Saída $y(t)$')\n",
        "plt.title('Resposta ao Rampa unitário')\n",
        "plt.grid()"
      ],
      "execution_count": null,
      "outputs": [
        {
          "output_type": "stream",
          "text": [
            "Integrador \n",
            "1\n",
            "-\n",
            "s\n",
            "\n"
          ],
          "name": "stdout"
        },
        {
          "output_type": "display_data",
          "data": {
            "image/png": "[encoded data removed]",
            "text/plain": [
              "<Figure size 432x288 with 1 Axes>"
            ]
          },
          "metadata": {
            "tags": [],
            "needs_background": "light"
          }
        }
      ]
    },
    {
      "cell_type": "markdown",
      "metadata": {
        "id": "3WxGc0YRzZZp"
      },
      "source": [
        "Sistema de 2º Ordem -Resposta ao degrau (forma canônica)"
      ]
    },
    {
      "cell_type": "code",
      "metadata": {
        "colab": {
          "base_uri": "https://localhost:8080/",
          "height": 295
        },
        "id": "NW_gdJyPyLH6",
        "outputId": "4456650c-1789-487a-8c9c-19f7a8324c6d"
      },
      "source": [
        "wn =2\n",
        "zeta = 0.25\n",
        "\n",
        "F = ctr.tf([wn**2],[1,2*zeta*wn, wn**2])\n",
        "\n",
        "y, t =ctr.step(F)\n",
        "\n",
        "plt.plot(t,y)\n",
        "plt.xlabel('Tempo, segundos')\n",
        "plt.ylabel('Saída $y(t)$')\n",
        "plt.title('Resposta ao Degrau unitário')\n",
        "plt.grid()\n"
      ],
      "execution_count": null,
      "outputs": [
        {
          "output_type": "display_data",
          "data": {
            "image/png": "[encoded data removed]",
            "text/plain": [
              "<Figure size 432x288 with 1 Axes>"
            ]
          },
          "metadata": {
            "tags": [],
            "needs_background": "light"
          }
        }
      ]
    },
    {
      "cell_type": "code",
      "metadata": {
        "colab": {
          "base_uri": "https://localhost:8080/"
        },
        "id": "cE24NWxEzMAq",
        "outputId": "052816a0-9d69-4301-8f58-841f51a86030"
      },
      "source": [
        "print(F)"
      ],
      "execution_count": null,
      "outputs": [
        {
          "output_type": "stream",
          "text": [
            "\n",
            "     4\n",
            "-----------\n",
            "s^2 + s + 4\n",
            "\n"
          ],
          "name": "stdout"
        }
      ]
    },
    {
      "cell_type": "code",
      "metadata": {
        "colab": {
          "base_uri": "https://localhost:8080/"
        },
        "id": "r2m_13-bzQgO",
        "outputId": "03ac9bdc-9475-47f5-cd50-21e8bb0c6e1a"
      },
      "source": [
        "ctr.damp(F)"
      ],
      "execution_count": null,
      "outputs": [
        {
          "output_type": "stream",
          "text": [
            "_____Eigenvalue______ Damping___ Frequency_\n",
            "      -0.5    +1.936j       0.25          2\n",
            "      -0.5    -1.936j       0.25          2\n"
          ],
          "name": "stdout"
        },
        {
          "output_type": "execute_result",
          "data": {
            "text/plain": [
              "(array([2., 2.]),\n",
              " array([0.25, 0.25]),\n",
              " array([-0.5+1.93649167j, -0.5-1.93649167j]))"
            ]
          },
          "metadata": {
            "tags": []
          },
          "execution_count": 29
        }
      ]
    },
    {
      "cell_type": "code",
      "metadata": {
        "colab": {
          "base_uri": "https://localhost:8080/"
        },
        "id": "HUrP1Y-8zxTM",
        "outputId": "fc3e47c7-cbff-4754-8d4c-12e606556cdf"
      },
      "source": [
        "ctr.stepinfo(F)"
      ],
      "execution_count": null,
      "outputs": [
        {
          "output_type": "execute_result",
          "data": {
            "text/plain": [
              "{'Overshoot': 44.519809068148646,\n",
              " 'Peak': 1.4432347690137854,\n",
              " 'PeakTime': 1.6578612669557133,\n",
              " 'RiseTime': 0.6447238260383329,\n",
              " 'SettlingMax': 1.4432347690137854,\n",
              " 'SettlingMin': 0.8027336167625623,\n",
              " 'SettlingTime': 7.091962086421662,\n",
              " 'SteadyStateValue': 0.9986414861185049,\n",
              " 'Undershoot': 0.0}"
            ]
          },
          "metadata": {
            "tags": []
          },
          "execution_count": 31
        }
      ]
    },
    {
      "cell_type": "code",
      "metadata": {
        "id": "3BZwPnKv0iGl"
      },
      "source": [],
      "execution_count": null,
      "outputs": []
    }
  ]
}